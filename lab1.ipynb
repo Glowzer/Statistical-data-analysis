{
 "cells": [
  {
   "cell_type": "markdown",
   "metadata": {},
   "source": [
    "## Лабораторная работа №1"
   ]
  },
  {
   "cell_type": "code",
   "execution_count": 27,
   "metadata": {},
   "outputs": [],
   "source": [
    "import numpy as np\n",
    "import matplotlib.pyplot as plt\n",
    "import scipy.stats as st\n",
    "import pandas as pd\n",
    "import pylab"
   ]
  },
  {
   "cell_type": "markdown",
   "metadata": {},
   "source": [
    "## 1. Осуществить моделирование $n = 1000$ реализаций случайной величины из нормального закона распределения $N(m, s^2)$ с заданными параметрами:  $m = 2, s^2 = 16$."
   ]
  },
  {
   "cell_type": "markdown",
   "metadata": {},
   "source": [
    "### Краткая теория*\n",
    "#### Среднее — среднее арифметическое значение по выборке.\n",
    "#### Максимум и минимум — соответсвенно максимальное и минимальное значение в выборке. \n",
    "#### Стандартное отклонение — показатель рассеивания значений случайной величины относительно её математического ожидания. Есть квадратный корень из дисперсии.\n",
    "#### Медиана — число, которое является серединой множества чисел выборки. То есть в нашем случае при _n = 1000_  - это среднее арифметическое двух чисел в середине, при этом выборка должна быть упорядочена. Также медиана является вторым квартилем выборки.\n",
    "#### Квартиль — значение, ниже которого лежит часть распределения вероятностей случайной величины, кратная одной четвёртой.\n",
    "#### Мода — значение, встречаемое в выборке наиболее часто. Так как в нашей выборке все элементы различны, то соответсвующая функция для её поиска возвращает минимальный элемент выборки (либо же первый).\n",
    "#### Асимметрия характеризует ассиметричность выборки, то есть коэффициент асимметрии положителен, если правый хвост распределения длиннее левого, и отрицателен в противном случае.\n",
    "#### Эксцесс — мера остроты пика распределения случайной величины.\n",
    "#### Гистогрaмма  — это функция, приближающая плотность вероятности некоторого распределения, построенная на основе выборки из него.\n",
    "#### «Ящик с усами» — график, компактно изображающий одномерное распределение вероятностей. Такой вид диаграммы в удобной форме показывает медиану (или, если нужно, среднее), нижний и верхний квартили, минимальное и максимальное значение выборки и выбросы.\n",
    "#### «Квантиль-квантиль» — график, позволяющий сравнить рапределение исследуемой переменной с теоретическим нормальным распределением.\n",
    "#### * Больше неформальная. "
   ]
  },
  {
   "cell_type": "code",
   "execution_count": 28,
   "metadata": {},
   "outputs": [],
   "source": [
    "norm = np.random.normal(2, 4, 1000)"
   ]
  },
  {
   "cell_type": "markdown",
   "metadata": {},
   "source": [
    "### Числовые характеристики:"
   ]
  },
  {
   "cell_type": "code",
   "execution_count": 29,
   "metadata": {
    "scrolled": true
   },
   "outputs": [
    {
     "data": {
      "text/html": [
       "<div>\n",
       "<style scoped>\n",
       "    .dataframe tbody tr th:only-of-type {\n",
       "        vertical-align: middle;\n",
       "    }\n",
       "\n",
       "    .dataframe tbody tr th {\n",
       "        vertical-align: top;\n",
       "    }\n",
       "\n",
       "    .dataframe thead th {\n",
       "        text-align: right;\n",
       "    }\n",
       "</style>\n",
       "<table border=\"1\" class=\"dataframe\">\n",
       "  <thead>\n",
       "    <tr style=\"text-align: right;\">\n",
       "      <th></th>\n",
       "      <th>Среднее</th>\n",
       "      <th>Максимум</th>\n",
       "      <th>Минимум</th>\n",
       "      <th>Стандартное отклонение</th>\n",
       "      <th>Медиана</th>\n",
       "      <th>Первая квартиль</th>\n",
       "      <th>Третья квартиль</th>\n",
       "      <th>Межквартильный размах</th>\n",
       "      <th>Мода</th>\n",
       "      <th>Асимметрия</th>\n",
       "      <th>Эксцесс</th>\n",
       "    </tr>\n",
       "  </thead>\n",
       "  <tbody>\n",
       "    <tr>\n",
       "      <th>0</th>\n",
       "      <td>1.931976</td>\n",
       "      <td>13.069437</td>\n",
       "      <td>-10.483241</td>\n",
       "      <td>3.880331</td>\n",
       "      <td>1.883614</td>\n",
       "      <td>-0.760654</td>\n",
       "      <td>4.482823</td>\n",
       "      <td>5.243477</td>\n",
       "      <td>([-10.48324071597374], [1])</td>\n",
       "      <td>0.01724</td>\n",
       "      <td>-0.230852</td>\n",
       "    </tr>\n",
       "  </tbody>\n",
       "</table>\n",
       "</div>"
      ],
      "text/plain": [
       "    Среднее   Максимум    Минимум  Стандартное отклонение   Медиана  \\\n",
       "0  1.931976  13.069437 -10.483241                3.880331  1.883614   \n",
       "\n",
       "   Первая квартиль  Третья квартиль  Межквартильный размах  \\\n",
       "0        -0.760654         4.482823               5.243477   \n",
       "\n",
       "                          Мода  Асимметрия   Эксцесс  \n",
       "0  ([-10.48324071597374], [1])     0.01724 -0.230852  "
      ]
     },
     "execution_count": 29,
     "metadata": {},
     "output_type": "execute_result"
    }
   ],
   "source": [
    "data = {'Среднее': [np.mean(norm)],\n",
    "        'Максимум': [np.max(norm)],\n",
    "        'Минимум': [np.min(norm)],\n",
    "        'Стандартное отклонение': [np.std(norm)],\n",
    "        'Медиана': [np.median(norm)],\n",
    "        'Первая квартиль': [np.percentile(norm, 25)],\n",
    "        'Третья квартиль': [np.percentile(norm, 75)],\n",
    "        'Межквартильный размах': [np.percentile(norm, 75) - np.percentile(norm, 25)],\n",
    "        'Мода': [st.mode(norm)],\n",
    "        'Асимметрия': [st.skew(norm)],\n",
    "        'Эксцесс': [st.kurtosis(norm)]}\n",
    "df = pd.DataFrame(data,\n",
    "                  columns =['Среднее', 'Максимум', 'Минимум', 'Стандартное отклонение', \n",
    "                            'Медиана', 'Первая квартиль','Третья квартиль','Межквартильный размах', 'Мода', 'Асимметрия', 'Эксцесс'])\n",
    "df"
   ]
  },
  {
   "cell_type": "markdown",
   "metadata": {},
   "source": [
    "### Гистограмма:"
   ]
  },
  {
   "cell_type": "code",
   "execution_count": 30,
   "metadata": {},
   "outputs": [
    {
     "name": "stderr",
     "output_type": "stream",
     "text": [
      "C:\\Users\\Glowzer-PC\\Anaconda3\\lib\\site-packages\\matplotlib\\axes\\_axes.py:6462: UserWarning: The 'normed' kwarg is deprecated, and has been replaced by the 'density' kwarg.\n",
      "  warnings.warn(\"The 'normed' kwarg is deprecated, and has been \"\n"
     ]
    },
    {
     "data": {
      "text/plain": [
       "Text(0.5,1,'Нормальное распределение: m=2, s^2=16')"
      ]
     },
     "execution_count": 30,
     "metadata": {},
     "output_type": "execute_result"
    },
    {
     "data": {
      "image/png": "[encoded data removed]",
      "text/plain": [
       "<Figure size 432x288 with 1 Axes>"
      ]
     },
     "metadata": {},
     "output_type": "display_data"
    }
   ],
   "source": [
    "bins = plt.hist(norm, 35, normed=1, facecolor='blue', alpha=0.5)\n",
    "plt.xlabel('Значения случайной величины')\n",
    "plt.ylabel('Вероятность случайной величины')\n",
    "plt.title(r'Нормальное распределение: m=2, s^2=16')"
   ]
  },
  {
   "cell_type": "markdown",
   "metadata": {},
   "source": [
    "### «Ящик с усами»:"
   ]
  },
  {
   "cell_type": "code",
   "execution_count": 31,
   "metadata": {},
   "outputs": [
    {
     "data": {
      "text/plain": [
       "Text(0,0.5,'Значения случайной величины')"
      ]
     },
     "execution_count": 31,
     "metadata": {},
     "output_type": "execute_result"
    },
    {
     "data": {
      "image/png": "[encoded data removed]",
      "text/plain": [
       "<Figure size 432x288 with 1 Axes>"
      ]
     },
     "metadata": {},
     "output_type": "display_data"
    }
   ],
   "source": [
    "plt.boxplot(norm)\n",
    "plt.ylabel('Значения случайной величины')"
   ]
  },
  {
   "cell_type": "markdown",
   "metadata": {},
   "source": [
    "### Квантиль-квантиль:"
   ]
  },
  {
   "cell_type": "code",
   "execution_count": 32,
   "metadata": {},
   "outputs": [
    {
     "data": {
      "image/png": "[encoded data removed]",
      "text/plain": [
       "<Figure size 432x288 with 1 Axes>"
      ]
     },
     "metadata": {},
     "output_type": "display_data"
    }
   ],
   "source": [
    "st.probplot(norm, dist=\"norm\", plot=pylab)\n",
    "pylab.show()"
   ]
  },
  {
   "cell_type": "markdown",
   "metadata": {},
   "source": [
    "### Критерий Колмогорова-Смирнова:"
   ]
  },
  {
   "cell_type": "code",
   "execution_count": 33,
   "metadata": {},
   "outputs": [
    {
     "data": {
      "text/plain": [
       "KstestResult(statistic=0.024893900658062518, pvalue=0.5650782757512247)"
      ]
     },
     "execution_count": 33,
     "metadata": {},
     "output_type": "execute_result"
    }
   ],
   "source": [
    "st.kstest(norm, 'norm', args=(2, 4))"
   ]
  },
  {
   "cell_type": "markdown",
   "metadata": {},
   "source": [
    "### Критерий Пирсона:\n"
   ]
  },
  {
   "cell_type": "code",
   "execution_count": 34,
   "metadata": {},
   "outputs": [
    {
     "data": {
      "text/plain": [
       "(-0.029733692378943244, 0.34758003170725327)"
      ]
     },
     "execution_count": 34,
     "metadata": {},
     "output_type": "execute_result"
    }
   ],
   "source": [
    "norm_test = np.random.normal(2, 16, 1000)\n",
    "st.pearsonr(norm, norm_test)"
   ]
  },
  {
   "cell_type": "markdown",
   "metadata": {},
   "source": [
    "## 2. Смоделировать $n = 1000$ случайных величин из заданных абсолютно непрерывных распределений согласно варианту: Логнормальное $LN(m, s^2), m = -1, s^2 = 1$\n"
   ]
  },
  {
   "cell_type": "code",
   "execution_count": 9,
   "metadata": {},
   "outputs": [],
   "source": [
    "lognorm = np.random.lognormal(-1, 1, 1000)"
   ]
  },
  {
   "cell_type": "markdown",
   "metadata": {},
   "source": [
    "### Числовые характеристики:"
   ]
  },
  {
   "cell_type": "code",
   "execution_count": 35,
   "metadata": {
    "scrolled": true
   },
   "outputs": [
    {
     "data": {
      "text/html": [
       "<div>\n",
       "<style scoped>\n",
       "    .dataframe tbody tr th:only-of-type {\n",
       "        vertical-align: middle;\n",
       "    }\n",
       "\n",
       "    .dataframe tbody tr th {\n",
       "        vertical-align: top;\n",
       "    }\n",
       "\n",
       "    .dataframe thead th {\n",
       "        text-align: right;\n",
       "    }\n",
       "</style>\n",
       "<table border=\"1\" class=\"dataframe\">\n",
       "  <thead>\n",
       "    <tr style=\"text-align: right;\">\n",
       "      <th></th>\n",
       "      <th>Среднее</th>\n",
       "      <th>Максимум</th>\n",
       "      <th>Минимум</th>\n",
       "      <th>Стандартное отклонение</th>\n",
       "      <th>Медиана</th>\n",
       "      <th>Первая квартиль</th>\n",
       "      <th>Третья квартиль</th>\n",
       "      <th>Межквартильный размах</th>\n",
       "      <th>Мода</th>\n",
       "      <th>Асимметрия</th>\n",
       "      <th>Эксцесс</th>\n",
       "    </tr>\n",
       "  </thead>\n",
       "  <tbody>\n",
       "    <tr>\n",
       "      <th>0</th>\n",
       "      <td>0.631203</td>\n",
       "      <td>6.402928</td>\n",
       "      <td>0.01174</td>\n",
       "      <td>0.750139</td>\n",
       "      <td>0.376923</td>\n",
       "      <td>0.195275</td>\n",
       "      <td>0.78131</td>\n",
       "      <td>0.586035</td>\n",
       "      <td>([0.011740496945035938], [1])</td>\n",
       "      <td>3.289844</td>\n",
       "      <td>15.239579</td>\n",
       "    </tr>\n",
       "  </tbody>\n",
       "</table>\n",
       "</div>"
      ],
      "text/plain": [
       "    Среднее  Максимум  Минимум  Стандартное отклонение   Медиана  \\\n",
       "0  0.631203  6.402928  0.01174                0.750139  0.376923   \n",
       "\n",
       "   Первая квартиль  Третья квартиль  Межквартильный размах  \\\n",
       "0         0.195275          0.78131               0.586035   \n",
       "\n",
       "                            Мода  Асимметрия    Эксцесс  \n",
       "0  ([0.011740496945035938], [1])    3.289844  15.239579  "
      ]
     },
     "execution_count": 35,
     "metadata": {},
     "output_type": "execute_result"
    }
   ],
   "source": [
    "data = {'Среднее': [np.mean(lognorm)],\n",
    "        'Максимум': [np.max(lognorm)],\n",
    "        'Минимум': [np.min(lognorm)],\n",
    "        'Стандартное отклонение': [np.std(lognorm)],\n",
    "        'Медиана': [np.median(lognorm)],\n",
    "        'Первая квартиль': [np.percentile(lognorm, 25)],\n",
    "        'Третья квартиль': [np.percentile(lognorm, 75)],\n",
    "        'Межквартильный размах': [np.percentile(lognorm, 75) - np.percentile(lognorm, 25)],\n",
    "        'Мода': [st.mode(lognorm)],\n",
    "        'Асимметрия': [st.skew(lognorm)],\n",
    "        'Эксцесс': [st.kurtosis(lognorm)]}\n",
    "df = pd.DataFrame(data,\n",
    "                  columns =['Среднее', 'Максимум', 'Минимум', 'Стандартное отклонение', \n",
    "                            'Медиана', 'Первая квартиль','Третья квартиль','Межквартильный размах', 'Мода', 'Асимметрия', 'Эксцесс'])\n",
    "df"
   ]
  },
  {
   "cell_type": "markdown",
   "metadata": {},
   "source": [
    "### Гистограмма:"
   ]
  },
  {
   "cell_type": "code",
   "execution_count": 36,
   "metadata": {},
   "outputs": [
    {
     "name": "stderr",
     "output_type": "stream",
     "text": [
      "C:\\Users\\Glowzer-PC\\Anaconda3\\lib\\site-packages\\matplotlib\\axes\\_axes.py:6462: UserWarning: The 'normed' kwarg is deprecated, and has been replaced by the 'density' kwarg.\n",
      "  warnings.warn(\"The 'normed' kwarg is deprecated, and has been \"\n"
     ]
    },
    {
     "data": {
      "text/plain": [
       "Text(0.5,1,'Логнормальное распределение: m=-1, s^2=1')"
      ]
     },
     "execution_count": 36,
     "metadata": {},
     "output_type": "execute_result"
    },
    {
     "data": {
      "image/png": "[encoded data removed]",
      "text/plain": [
       "<Figure size 432x288 with 1 Axes>"
      ]
     },
     "metadata": {},
     "output_type": "display_data"
    }
   ],
   "source": [
    "bins = plt.hist(lognorm, 50, normed=1, facecolor='blue', alpha=0.5)\n",
    "plt.xlabel('Значения случайной величины')\n",
    "plt.ylabel('Вероятность случайной величины')\n",
    "plt.title('Логнормальное распределение: m=-1, s^2=1')"
   ]
  },
  {
   "cell_type": "markdown",
   "metadata": {},
   "source": [
    "### «Ящик с усами»:"
   ]
  },
  {
   "cell_type": "code",
   "execution_count": 37,
   "metadata": {},
   "outputs": [
    {
     "data": {
      "text/plain": [
       "Text(0,0.5,'Значения случайной величины')"
      ]
     },
     "execution_count": 37,
     "metadata": {},
     "output_type": "execute_result"
    },
    {
     "data": {
      "image/png": "[encoded data removed]",
      "text/plain": [
       "<Figure size 432x288 with 1 Axes>"
      ]
     },
     "metadata": {},
     "output_type": "display_data"
    }
   ],
   "source": [
    "plt.boxplot(lognorm)\n",
    "plt.ylabel('Значения случайной величины')"
   ]
  },
  {
   "cell_type": "markdown",
   "metadata": {},
   "source": [
    "### Квантиль-квантиль:"
   ]
  },
  {
   "cell_type": "code",
   "execution_count": 38,
   "metadata": {},
   "outputs": [
    {
     "data": {
      "image/png": "[encoded data removed]",
      "text/plain": [
       "<Figure size 432x288 with 1 Axes>"
      ]
     },
     "metadata": {},
     "output_type": "display_data"
    }
   ],
   "source": [
    "st.probplot(lognorm, dist=\"norm\", plot=pylab)\n",
    "pylab.show()"
   ]
  },
  {
   "cell_type": "markdown",
   "metadata": {},
   "source": [
    "### Критерий Колмогорова-Смирнова:"
   ]
  },
  {
   "cell_type": "code",
   "execution_count": 39,
   "metadata": {},
   "outputs": [
    {
     "name": "stderr",
     "output_type": "stream",
     "text": [
      "C:\\Users\\Glowzer-PC\\Anaconda3\\lib\\site-packages\\scipy\\stats\\_distn_infrastructure.py:879: RuntimeWarning: invalid value encountered in greater\n",
      "  return (self.a < x) & (x < self.b)\n",
      "C:\\Users\\Glowzer-PC\\Anaconda3\\lib\\site-packages\\scipy\\stats\\_distn_infrastructure.py:879: RuntimeWarning: invalid value encountered in less\n",
      "  return (self.a < x) & (x < self.b)\n",
      "C:\\Users\\Glowzer-PC\\Anaconda3\\lib\\site-packages\\scipy\\stats\\_distn_infrastructure.py:1821: RuntimeWarning: invalid value encountered in less_equal\n",
      "  cond2 = cond0 & (x <= self.a)\n"
     ]
    },
    {
     "data": {
      "text/plain": [
       "KstestResult(statistic=nan, pvalue=nan)"
      ]
     },
     "execution_count": 39,
     "metadata": {},
     "output_type": "execute_result"
    }
   ],
   "source": [
    "st.kstest(lognorm, 'lognorm', args = (-1, 1))"
   ]
  },
  {
   "cell_type": "markdown",
   "metadata": {},
   "source": [
    "### Критерий Пирсона:"
   ]
  },
  {
   "cell_type": "code",
   "execution_count": 40,
   "metadata": {},
   "outputs": [
    {
     "data": {
      "text/plain": [
       "(-0.019620660712078162, 0.5354267331498583)"
      ]
     },
     "execution_count": 40,
     "metadata": {},
     "output_type": "execute_result"
    }
   ],
   "source": [
    "test = np.random.lognormal(2, 4, 1000)\n",
    "st.pearsonr(lognorm, test)"
   ]
  },
  {
   "cell_type": "markdown",
   "metadata": {},
   "source": [
    "## 3. Смоделировать выборку с засорениями объемом _n = 1000_ случайных величин. В качестве основного распределения взять нормальное распределение из задания 1.1, а засоряющего – распределение из задания 1.2 (Логнормально). Использовать уровень засорения 5% (доля засоряющих значений в выборке)"
   ]
  },
  {
   "cell_type": "code",
   "execution_count": 41,
   "metadata": {},
   "outputs": [],
   "source": [
    "selection = np.random.normal(2,4,950)"
   ]
  },
  {
   "cell_type": "code",
   "execution_count": 42,
   "metadata": {},
   "outputs": [],
   "source": [
    "clog = np.random.lognormal(-1,1,50)"
   ]
  },
  {
   "cell_type": "code",
   "execution_count": 43,
   "metadata": {},
   "outputs": [],
   "source": [
    "norm_with_clog = np.concatenate([selection, clog])"
   ]
  },
  {
   "cell_type": "markdown",
   "metadata": {},
   "source": [
    "### Числовые характеристики:"
   ]
  },
  {
   "cell_type": "code",
   "execution_count": 44,
   "metadata": {
    "scrolled": true
   },
   "outputs": [
    {
     "data": {
      "text/html": [
       "<div>\n",
       "<style scoped>\n",
       "    .dataframe tbody tr th:only-of-type {\n",
       "        vertical-align: middle;\n",
       "    }\n",
       "\n",
       "    .dataframe tbody tr th {\n",
       "        vertical-align: top;\n",
       "    }\n",
       "\n",
       "    .dataframe thead th {\n",
       "        text-align: right;\n",
       "    }\n",
       "</style>\n",
       "<table border=\"1\" class=\"dataframe\">\n",
       "  <thead>\n",
       "    <tr style=\"text-align: right;\">\n",
       "      <th></th>\n",
       "      <th>Среднее</th>\n",
       "      <th>Максимум</th>\n",
       "      <th>Минимум</th>\n",
       "      <th>Стандартное отклонение</th>\n",
       "      <th>Медиана</th>\n",
       "      <th>Первая квартиль</th>\n",
       "      <th>Третья квартиль</th>\n",
       "      <th>Межквартильный размах</th>\n",
       "      <th>Мода</th>\n",
       "      <th>Асимметрия</th>\n",
       "      <th>Эксцесс</th>\n",
       "    </tr>\n",
       "  </thead>\n",
       "  <tbody>\n",
       "    <tr>\n",
       "      <th>0</th>\n",
       "      <td>1.789155</td>\n",
       "      <td>14.195223</td>\n",
       "      <td>-10.404383</td>\n",
       "      <td>3.98097</td>\n",
       "      <td>1.617475</td>\n",
       "      <td>-0.907493</td>\n",
       "      <td>4.643638</td>\n",
       "      <td>5.551131</td>\n",
       "      <td>([-10.40438266614109], [1])</td>\n",
       "      <td>-0.007746</td>\n",
       "      <td>-0.265812</td>\n",
       "    </tr>\n",
       "  </tbody>\n",
       "</table>\n",
       "</div>"
      ],
      "text/plain": [
       "    Среднее   Максимум    Минимум  Стандартное отклонение   Медиана  \\\n",
       "0  1.789155  14.195223 -10.404383                 3.98097  1.617475   \n",
       "\n",
       "   Первая квартиль  Третья квартиль  Межквартильный размах  \\\n",
       "0        -0.907493         4.643638               5.551131   \n",
       "\n",
       "                          Мода  Асимметрия   Эксцесс  \n",
       "0  ([-10.40438266614109], [1])   -0.007746 -0.265812  "
      ]
     },
     "execution_count": 44,
     "metadata": {},
     "output_type": "execute_result"
    }
   ],
   "source": [
    "data = {'Среднее': [np.mean(norm_with_clog)],\n",
    "        'Максимум': [np.max(norm_with_clog)],\n",
    "        'Минимум': [np.min(norm_with_clog)],\n",
    "        'Стандартное отклонение': [np.std(norm_with_clog)],\n",
    "        'Медиана': [np.median(norm_with_clog)],\n",
    "        'Первая квартиль': [np.percentile(norm_with_clog, 25)],\n",
    "        'Третья квартиль': [np.percentile(norm_with_clog, 75)],\n",
    "        'Межквартильный размах': [np.percentile(norm_with_clog, 75) - np.percentile(norm_with_clog, 25)],\n",
    "        'Мода': [st.mode(norm_with_clog)],\n",
    "        'Асимметрия': [st.skew(norm_with_clog)],\n",
    "        'Эксцесс': [st.kurtosis(norm_with_clog)]}\n",
    "df = pd.DataFrame(data,\n",
    "                  columns =['Среднее', 'Максимум', 'Минимум', 'Стандартное отклонение', \n",
    "                            'Медиана', 'Первая квартиль','Третья квартиль','Межквартильный размах', 'Мода', 'Асимметрия', 'Эксцесс'])\n",
    "df"
   ]
  },
  {
   "cell_type": "code",
   "execution_count": 45,
   "metadata": {},
   "outputs": [
    {
     "name": "stderr",
     "output_type": "stream",
     "text": [
      "C:\\Users\\Glowzer-PC\\Anaconda3\\lib\\site-packages\\matplotlib\\axes\\_axes.py:6462: UserWarning: The 'normed' kwarg is deprecated, and has been replaced by the 'density' kwarg.\n",
      "  warnings.warn(\"The 'normed' kwarg is deprecated, and has been \"\n"
     ]
    },
    {
     "data": {
      "text/plain": [
       "Text(0.5,1,'Нормальное распределение с засорениями: m=2, s^2=16')"
      ]
     },
     "execution_count": 45,
     "metadata": {},
     "output_type": "execute_result"
    },
    {
     "data": {
      "image/png": "[encoded data removed]",
      "text/plain": [
       "<Figure size 432x288 with 1 Axes>"
      ]
     },
     "metadata": {},
     "output_type": "display_data"
    }
   ],
   "source": [
    "bins = plt.hist(norm_with_clog, 35, normed=1, facecolor='blue', alpha=0.5)\n",
    "plt.xlabel('Значения случайной величины')\n",
    "plt.ylabel('Вероятность случайной величины')\n",
    "plt.title('Нормальное распределение с засорениями: m=2, s^2=16')"
   ]
  },
  {
   "cell_type": "markdown",
   "metadata": {},
   "source": [
    "### «Ящик с усами»: \n"
   ]
  },
  {
   "cell_type": "code",
   "execution_count": 46,
   "metadata": {},
   "outputs": [
    {
     "data": {
      "text/plain": [
       "Text(0,0.5,'Значения случайной величины')"
      ]
     },
     "execution_count": 46,
     "metadata": {},
     "output_type": "execute_result"
    },
    {
     "data": {
      "image/png": "[encoded data removed]",
      "text/plain": [
       "<Figure size 432x288 with 1 Axes>"
      ]
     },
     "metadata": {},
     "output_type": "display_data"
    }
   ],
   "source": [
    "plt.boxplot(norm_with_clog)\n",
    "plt.ylabel('Значения случайной величины')"
   ]
  },
  {
   "cell_type": "markdown",
   "metadata": {},
   "source": [
    "### Квантиль-квантиль: \n"
   ]
  },
  {
   "cell_type": "code",
   "execution_count": 47,
   "metadata": {},
   "outputs": [
    {
     "data": {
      "image/png": "[encoded data removed]",
      "text/plain": [
       "<Figure size 432x288 with 1 Axes>"
      ]
     },
     "metadata": {},
     "output_type": "display_data"
    }
   ],
   "source": [
    "st.probplot(norm_with_clog, dist=\"norm\", plot=pylab)\n",
    "pylab.show()"
   ]
  },
  {
   "cell_type": "code",
   "execution_count": 48,
   "metadata": {},
   "outputs": [
    {
     "data": {
      "text/plain": [
       "KstestResult(statistic=0.05044034036135453, pvalue=0.01190606586476628)"
      ]
     },
     "execution_count": 48,
     "metadata": {},
     "output_type": "execute_result"
    }
   ],
   "source": [
    "st.kstest(norm_with_clog, 'norm', args=(2, 4))"
   ]
  }
 ],
 "metadata": {
  "kernelspec": {
   "display_name": "Python 3",
   "language": "python",
   "name": "python3"
  },
  "language_info": {
   "codemirror_mode": {
    "name": "ipython",
    "version": 3
   },
   "file_extension": ".py",
   "mimetype": "text/x-python",
   "name": "python",
   "nbconvert_exporter": "python",
   "pygments_lexer": "ipython3",
   "version": "3.6.5"
  }
 },
 "nbformat": 4,
 "nbformat_minor": 2
}
